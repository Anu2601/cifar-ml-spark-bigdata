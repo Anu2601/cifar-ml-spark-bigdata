from pyspark import SparkContext 
from pyspark.streaming import StreamingContext
from pyspark.sql import SQLContext
import json

sc = SparkContext()
ssc = StreamingContext(sc, 1)
sqlc = SQLContext(sc)
socket_stream = ssc.socketTextStream("localhost", 6100)
lines = socket_stream.window( 20 )

lines.pprint()

ssc.start()
ssc.awaitTermination()